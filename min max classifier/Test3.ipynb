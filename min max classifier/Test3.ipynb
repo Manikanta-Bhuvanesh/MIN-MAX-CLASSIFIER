{
 "cells": [
  {
   "cell_type": "code",
   "execution_count": 14,
   "metadata": {},
   "outputs": [],
   "source": [
    "import pandas as pd \n",
    "import numpy as np\n",
    "import statistics\n",
    "from sklearn.model_selection import train_test_split\n",
    "import random\n",
    "from scipy import stats as s\n",
    "from sklearn.preprocessing import MinMaxScaler\n",
    "from sklearn.metrics import accuracy_score"
   ]
  },
  {
   "cell_type": "code",
   "execution_count": 15,
   "metadata": {},
   "outputs": [],
   "source": [
    "class New:\n",
    "  data=[]\n",
    "  numclass=[]\n",
    "  max={}\n",
    "  min={}\n",
    "  target = []\n",
    "  def fi(self,X,Y,ratio=False):\n",
    "    scale=MinMaxScaler(feature_range=(0, 1000))\n",
    "    colnames=list(X.columns)\n",
    "    p=scale.fit_transform(X.values)\n",
    "    X[colnames]=p\n",
    "    tempdata=pd.concat([X, Y], axis=1, ignore_index=True)\n",
    "    if ratio:\n",
    "        X_train, X_test, Y_train, Y_test=train_test_split(X,Y,test_size=ratio)\n",
    "        self.data = pd.concat([X_train, Y_train], axis=1, ignore_index=True)\n",
    "        self.target=Y.unique()\n",
    "        for i in self.target:\n",
    "            temp=self.data[Y==i]\n",
    "            temp=temp.iloc[: , :-1]\n",
    "            self.max[i]=temp.max()\n",
    "            self.min[i]=temp.min()\n",
    "        y_predict=self.pre(X_test)\n",
    "        print(accuracy_score(Y_test,y_predict)*100)\n",
    "    else:\n",
    "        self.data = pd.concat([X, Y], axis=1, ignore_index=True)\n",
    "        self.target=Y.unique()\n",
    "        for i in self.target:\n",
    "            temp=self.data[Y==i]\n",
    "            temp=temp.iloc[: , :-1]\n",
    "            self.max[i]=temp.max()\n",
    "            self.min[i]=temp.min()\n",
    "        y_predict=self.pre(X)\n",
    "        print(accuracy_score(Y,y_predict)*100)\n",
    "\n",
    "  def pre(self,X):\n",
    "    y_predict=[]\n",
    "    for l in range(X.shape[0]):\n",
    "      predict=[]\n",
    "      for j in self.target:\n",
    "        for k in range(X.shape[1]):\n",
    "          if self.max[j][k]>=X.iloc[l,k] and self.min[j][k]<=X.iloc[l,k]:\n",
    "            predict.append(j)\n",
    "      y_predict.append((s.mode(predict)[0]))  \n",
    "    return y_predict"
   ]
  },
  {
   "cell_type": "code",
   "execution_count": 17,
   "metadata": {},
   "outputs": [
    {
     "name": "stderr",
     "output_type": "stream",
     "text": [
      "C:\\Users\\MANIKA~1\\AppData\\Local\\Temp/ipykernel_8540/278848397.py:18: UserWarning: Boolean Series key will be reindexed to match DataFrame index.\n",
      "  temp=self.data[Y==i]\n"
     ]
    },
    {
     "name": "stdout",
     "output_type": "stream",
     "text": [
      "98.86363636363636\n"
     ]
    }
   ],
   "source": [
    "data=pd.read_csv('Crop_recommendation.csv')\n",
    "X = data.drop(\"label\", axis=1)\n",
    "Y = data[\"label\"]\n",
    "model=New()\n",
    "model.fi(X,Y,0.2)"
   ]
  }
 ],
 "metadata": {
  "interpreter": {
   "hash": "ac59ebe37160ed0dfa835113d9b8498d9f09ceb179beaac4002f036b9467c963"
  },
  "kernelspec": {
   "display_name": "Python 3.9.9 64-bit",
   "language": "python",
   "name": "python3"
  },
  "language_info": {
   "codemirror_mode": {
    "name": "ipython",
    "version": 3
   },
   "file_extension": ".py",
   "mimetype": "text/x-python",
   "name": "python",
   "nbconvert_exporter": "python",
   "pygments_lexer": "ipython3",
   "version": "3.9.9"
  },
  "orig_nbformat": 4
 },
 "nbformat": 4,
 "nbformat_minor": 2
}
